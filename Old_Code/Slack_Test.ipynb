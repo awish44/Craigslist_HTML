{
 "cells": [
  {
   "cell_type": "code",
   "execution_count": 1,
   "metadata": {},
   "outputs": [],
   "source": [
    "import os\n",
    "from slackclient import SlackClient\n"
   ]
  },
  {
   "cell_type": "code",
   "execution_count": null,
   "metadata": {},
   "outputs": [],
   "source": [
    "SLACK_TOKEN = \"ENTER_TOKEN_HERE\"\n",
    "SLACK_CHANNEL = \"#housing\"\n",
    "\n",
    "sc = SlackClient(SLACK_TOKEN)\n",
    "desc = \"{0} | {1} | {2} | {3} | <{4}>\".format(result[\"area\"], result[\"price\"], result[\"bart_dist\"], result[\"name\"], result[\"url\"])\n",
    "sc.api_call(\n",
    "    \"chat.postMessage\", channel=SLACK_CHANNEL, text=desc,\n",
    "    username='pybot', icon_emoji=':robot_face:'\n",
    ")"
   ]
  }
 ],
 "metadata": {
  "kernelspec": {
   "display_name": "Python 3",
   "language": "python",
   "name": "python3"
  },
  "language_info": {
   "codemirror_mode": {
    "name": "ipython",
    "version": 3
   },
   "file_extension": ".py",
   "mimetype": "text/x-python",
   "name": "python",
   "nbconvert_exporter": "python",
   "pygments_lexer": "ipython3",
   "version": "3.7.1"
  }
 },
 "nbformat": 4,
 "nbformat_minor": 2
}
